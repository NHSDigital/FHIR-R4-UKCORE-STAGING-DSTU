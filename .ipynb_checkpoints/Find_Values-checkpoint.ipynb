{
 "cells": [
  {
   "cell_type": "code",
   "execution_count": 16,
   "id": "5db3d0ca-2bf3-4cee-a190-054d9bb7b897",
   "metadata": {
    "tags": []
   },
   "outputs": [
    {
     "name": "stdout",
     "output_type": "stream",
     "text": [
      "Patient.extension:deathNotificationStatus.extension: 1\n",
      "Patient.name: 1\n",
      "Patient.gender: 1\n",
      "Patient.birthDate: 1\n",
      "Patient.address: 1\n",
      "Patient.address.extension:addressKey.extension: 2\n"
     ]
    }
   ],
   "source": [
    "import json\n",
    "\n",
    "path = '../NHSEngland-FHIR-Examples/structuredefinitions'\n",
    "file = 'England-Patient-PDS.json'\n",
    "with open(f\"./{path}/{file}\", 'r') as j:\n",
    "    jsonFile = json.loads(j.read())\n",
    "\n",
    "def find_values(json_data, element):\n",
    "    if isinstance(json_data, dict):\n",
    "        for key, value in json_data.items():\n",
    "            if key == element:\n",
    "                print(f\"{json_data['id']}: {value}\")\n",
    "            elif isinstance(value, (dict, list)):\n",
    "                find_values(value, element)\n",
    "    elif isinstance(json_data, list):\n",
    "        for item in json_data:\n",
    "            find_values(item, element)\n",
    "\n",
    "\n",
    "# Call the function with your JSON data\n",
    "find_values(jsonFile, 'min')"
   ]
  },
  {
   "cell_type": "markdown",
   "id": "0a700e4c-08bf-48f9-bf3a-310be48a2031",
   "metadata": {
    "tags": []
   },
   "source": [
    "# TODO\n",
    "- set element variable to be a list and loop trhough, e.g. element = \\['min','max'\\]\n",
    "- Open npm package\n",
    "- for all files in index(?) check for element\n",
    "- create table for each `type`, e.g. \"Patient\" element & id in row, profile name in column\n",
    "- loop through each package adding to table\n",
    "- print table"
   ]
  },
  {
   "cell_type": "code",
   "execution_count": null,
   "id": "b02f0055-ce9e-45c4-987d-e7b92320862b",
   "metadata": {},
   "outputs": [],
   "source": []
  }
 ],
 "metadata": {
  "kernelspec": {
   "display_name": "Python 3 (ipykernel)",
   "language": "python",
   "name": "python3"
  },
  "language_info": {
   "codemirror_mode": {
    "name": "ipython",
    "version": 3
   },
   "file_extension": ".py",
   "mimetype": "text/x-python",
   "name": "python",
   "nbconvert_exporter": "python",
   "pygments_lexer": "ipython3",
   "version": "3.11.5"
  }
 },
 "nbformat": 4,
 "nbformat_minor": 5
}
