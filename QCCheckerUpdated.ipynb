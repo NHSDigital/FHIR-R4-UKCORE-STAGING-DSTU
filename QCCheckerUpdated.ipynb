{
 "cells": [
  {
   "cell_type": "code",
   "execution_count": 1,
   "id": "0e3337c5-9386-4425-8d57-279061ca5ea3",
   "metadata": {
    "tags": []
   },
   "outputs": [],
   "source": [
    "'''A Quality Control Checker for the IOPS FHIR repos, which runs whenever there is a push to any branch. \n",
    "\n",
    "This checks the following:\n",
    "- XML code for errors\n",
    "- Files are in the correct path\n",
    "- Certain elements are present and have correct vales as per the UK Core requirments\n",
    "- Draft / Active Profiles are within the CapabilityStatement\n",
    "\n",
    "If any of these are deemed incorrect the workflow will fail. '''\n",
    "\n",
    "import xml.etree.ElementTree as ET\n",
    "import json\n",
    "import os\n",
    "import sys"
   ]
  },
  {
   "cell_type": "code",
   "execution_count": 2,
   "id": "9e4452c3-0f22-4fd7-b158-a65a6303575f",
   "metadata": {
    "tags": []
   },
   "outputs": [],
   "source": [
    "def getRepoVariables():\n",
    "    '''Returns the repo name in lower case'''\n",
    "    repoPath = os.getcwd()\n",
    "    repoParent = os.path.dirname(repoPath)\n",
    "    repoName = os.path.basename(repoParent).lower()\n",
    "    \n",
    "    '''Creates main variables for use with UKCore and NHSE assets'''\n",
    "    #if 'ukcore' in repoName:\n",
    "    if 'ukcore' in repoPath.lower(): # USED FOR TESTIMG ____________________DELETE_____________________\n",
    "        from repoVariables import ukcoreVar as mainVar\n",
    "    else:\n",
    "        from repoVariables import nhseVar as mainVar\n",
    "    return mainVar"
   ]
  },
  {
   "cell_type": "code",
   "execution_count": 3,
   "id": "a2c9ad6a-6e59-4bd1-ad6a-cfe812fef060",
   "metadata": {
    "tags": []
   },
   "outputs": [],
   "source": [
    "mainVar = getRepoVariables()"
   ]
  },
  {
   "cell_type": "code",
   "execution_count": 41,
   "id": "4627178f-dab6-4fa4-abe0-583fae489a7b",
   "metadata": {
    "tags": []
   },
   "outputs": [],
   "source": [
    "def openXMLFile(path,file):        \n",
    "    try:\n",
    "        tree = ET.parse(\"./\"+path+\"/\"+file)\n",
    "    except ET.ParseError as e:\n",
    "        print(\"\\t\",file,\"- The XML code has an error that needs to be fixed before it can be checked:\",e)\n",
    "        error=True\n",
    "        return None\n",
    "    except:\n",
    "        return None\n",
    "    root = tree.getroot()\n",
    "    return root\n",
    "\n",
    "def openJSONFile(path, file):\n",
    "    ''' loads JSON File returns dict named contents '''\n",
    "    try:\n",
    "        with open(f\"./{path}/{file}\", 'r') as j:\n",
    "            contents = json.loads(j.read())\n",
    "    except json.JSONDecodeError as e:\n",
    "        print(f\"\\t{file} - The JSON code has an error that needs to be fixed before it can be checked: {e}\")\n",
    "        error = True  # Assuming you handle errors similarly to the XML case\n",
    "        return None  # Return None to signify error\n",
    "    except Exception as error:\n",
    "        print(\"error found whilst trying to open\",file,\":\",error)\n",
    "    return contents\n",
    "\n",
    "def getXMLCoreElements(path,file,warnings):\n",
    "    '''Gets all elements from the xml file that needs to be checked. Will return empty key value pairs on any retired assets'''\n",
    "    try:\n",
    "        if root.findall('.//{*}'+str('status'))[0].get('value') == 'retired':\n",
    "            elements = {}\n",
    "            return elements,warnings\n",
    "    except IndexError:\n",
    "        warnings.append(\"\\t\",file,\" - The element 'status' is missing\")\n",
    "#    except:\n",
    "#        print(\"active\",root.findall('.//{*}'+str('status'))[0].get('value'))   \n",
    "\n",
    "    '''check for missing elements'''\n",
    "    stop = 0\n",
    "    elements = {}\n",
    "    #elements = {'id':'id','url':'url','name':'name','title':'title','version':'version','status':'status','date':'date','description':'description','copyright':'copyright'}\n",
    "    fileKeys = ['id','url','name','title','version','status','date','description','copyright']\n",
    "    for k in fileKeys:\n",
    "        try:\n",
    "            elements.update({k:root.findall('.//{*}'+str(k))[0].get('value')}) \n",
    "        except:\n",
    "            elements.update({k:None})\n",
    "            #warnings.append(\"\\t\",file,\" - The element '\"+k+\"' is missing\")\n",
    "    return elements,warnings\n",
    "        \n",
    "def getJSONCoreElements(jsonFile,warnings):\n",
    "    '''Gets all elements from the json file that needs to be checked. Will return empty on any retired elemets'''\n",
    "    fileKeys = ['id','url','name','title','version','status','date','description','copyright']\n",
    "    elements = {}\n",
    "    try:\n",
    "        if jsonFile['status']=='retired':\n",
    "            elements = {}\n",
    "            return elements,warnings\n",
    "    except:\n",
    "        warnings.append(\"\\t\",file,\" - The element 'status' is missing\")\n",
    "    for k in FileKeys:\n",
    "        try:\n",
    "            elements.update({k:jsonFile[k]})\n",
    "        except:\n",
    "            elements.update({k:None})\n",
    "            #warnings.append(\"\\t\",file,\" - The element '\"+key+\"' is missing\")\n",
    "    return elements,warnings\n",
    "\n",
    "def checkElementNamingConvention(elements, warnings, file):\n",
    "    fileName = os.path.splitext(os.path.basename(file))[0]\n",
    "    assets = {\"valuesets\":\"ValueSet\",\"codesystems\":\"CodeSystem\",\"structuredefinitions\":\"StructureDefinition\"}\n",
    "    '''check elements naming convention are correct'''\n",
    "    if elements == {}:\n",
    "        return warnings\n",
    "    if path == 'codesystems' or path == 'valuesets':\n",
    "        fileName = '-'.join(fileName.split('-')[1:])\n",
    "    if not fileName == elements['id']:\n",
    "        warnings.append(\"\\t\\t\"+elements['id']+\" - the 'id' is incorrect\")\n",
    "    '''Check all url's unless they starts with one in the ignore list'''\n",
    "    uriCheck=True\n",
    "    for elem in mainVar['ignoreURLPrefix']:\n",
    "        if elements['url'].startswith(elem):\n",
    "            uriCheck=False\n",
    "            break\n",
    "    if uriCheck == True:        \n",
    "        if not fileName == elements['url'].split('/')[-1]:\n",
    "            warnings.append(\"\\t\\t\"+elements['url']+\" - The 'url' element is incorrect\")\n",
    "        if not elements['url'].startswith(mainVar['urlPrefix']+assets[path]):\n",
    "            warnings.append(\"\\t\\t\"+elements['url']+\" - The 'url' element prefix is incorrect\")\n",
    "    if not ''.join(fileName.split('-')) == elements['name'].split('/')[-1]:\n",
    "        warnings.append(\"\\t\\t\"+elements['name']+\" - The 'name' element is incorrect\")\n",
    "    if not fileName.replace('-','') == elements['title'].replace(' ',''):\n",
    "        warnings.append(\"\\t\\t\"+elements['title']+\" - The 'title' element is incorrect\")\n",
    "    return warnings\n",
    "    \n",
    "\n",
    "def checkXMLStructureDefinitionElements(root,path,warnings):\n",
    "    ''' Check purpose element is present in Profiles and Extensions '''\n",
    "    try:\n",
    "        root.findall('.//{*}'+str('purpose'))[0].get('value')\n",
    "    except:\n",
    "        warnings.append(\"\\t\\tpurpose - This element is missing'\")\n",
    "    return warnings\n",
    "\n",
    "def checkJSONStructureDefinitionElements(jsonFile, warnings):\n",
    "    try:\n",
    "        jsonFile['purpose']\n",
    "    except:\n",
    "        warnings.append(\"\\t\\tpurpose - This element is missing'\")\n",
    "    return warnings\n",
    "\n",
    "def checkContactDetailsXML(root,path,warnings):            \n",
    "    ''' Check Contact Details '''\n",
    "    try:\n",
    "        if not root.findall('.//{*}'+str('name'))[1].get('value') == mainVar['org']:\n",
    "            warnings.append(\"\\t\\t contact.name - This SHALL be '\"+mainVar['org']+\"'\")\n",
    "    except:\n",
    "        print(\"\\t\\tcontact.name - This element is missing\")\n",
    "\n",
    "    contact = {'system':'email','value':mainVar['email'],'use':'work','rank':'1'}\n",
    "    for key,value in contact.items():\n",
    "        try:\n",
    "            if not root.findall('.//{*}'+str(key))[0].get('value') == value:\n",
    "                try: \n",
    "                    if not root.findall('.//{*}'+str(key))[1].get('value') == value: #added as a workaround in case identifier.system and identifier.value present  \n",
    "                        warnings.append(\"\\t\\t\"+\"contact.telecom.\"+key+\" - This SHALL be '\"+value+\"'\")\n",
    "                except:\n",
    "                    warnings.append(\"\\t\\t\"+\"contact.telecom.\"+key+\" - This SHALL be '\"+value+\"'\")\n",
    "        except:\n",
    "            warnings.append(\"\\t\\tcontact.telecom.\"+key+\" - This element is missing\")\n",
    "    return warnings\n",
    "\n",
    "def checkContactDetailsJSON(jsonFile,warnings):\n",
    "    try:\n",
    "        if not jsonFile['contact'][0]['name'] == mainVar['org']:\n",
    "            warnings.append(\"\\t\\t contact.name - This SHALL be '\"+mainVar['org']+\"'\")\n",
    "    except:\n",
    "        warnings.append(\"\\t\\t contact.name - This SHALL be '\"+mainVar['org']+\"'\")\n",
    "        \n",
    "    contact = {'system':'email','value':mainVar['email'],'use':'work','rank':'1'}\n",
    "    for key,value in contact.items():\n",
    "        try:\n",
    "            if not jsonFile['contact'][0]['telecom'][0][key] == value:\n",
    "                warnings.append(\"\\t\\tcontact.telecom.\"+key+\" - This SHALL be '\"+value+\"'\")\n",
    "        except:\n",
    "            warnings.append(\"\\t\\tcontact.telecom.\"+key+\" - This element is missing\")\n",
    "    return warnings"
   ]
  },
  {
   "cell_type": "code",
   "execution_count": 35,
   "id": "370c18b9-6050-4c50-8071-b2f6ebea4b02",
   "metadata": {
    "tags": []
   },
   "outputs": [],
   "source": [
    "def checkAssets(file, warnings):\n",
    "    '''Check files are in correct folder '''\n",
    "    fileName = os.path.splitext(os.path.basename(file))[0]\n",
    "    if path == 'structuredefinitions':\n",
    "        if fileName.endswith(\"Example\") or (not file.startswith('Extension') and not file.startswith(mainVar['project'])):\n",
    "            warnings.append(\"\\t\\tThe file has either an incorrect prefix or in the wrong folder '\"+path+\"'\")\n",
    "            error=True\n",
    "        if fileName.startswith(mainVar['project']): #Used for Capabilitystatement Checking\n",
    "            profile = fileName.replace(mainVar['project']+'-','')\n",
    "            if '-' not in profile: #ignore derived profiles\n",
    "                currentProfiles.append(profile)\n",
    "        if file.endswith(\"xml\"):\n",
    "            warnings = checkXMLStructureDefinitionElements(root,path,warnings)\n",
    "        else:\n",
    "            warnings = checkJSONStructureDefinitionElements(jsonFile,warnings)\n",
    "    if path == 'valuesets' and not file.startswith('ValueSet'):\n",
    "        warnings.append(\"\\t\\tThe file has either an incorrect prefix or in the wrong folder '\"+path+\"'\")\n",
    "        error=True\n",
    "    if path == 'codesystems' and not file.startswith('CodeSystem'):\n",
    "        warnings.append(\"\\t\\tThe file has either an incorrect prefix or in the wrong folder '\"+path+\"'\")\n",
    "        error=True\n",
    "    return warnings"
   ]
  },
  {
   "cell_type": "code",
   "execution_count": 36,
   "id": "0576820e-6031-4300-bdcf-9a83b815d7b6",
   "metadata": {
    "tags": []
   },
   "outputs": [],
   "source": [
    "def checkExamples():\n",
    "    '''check example filenames'''\n",
    "    try:\n",
    "        examplesPath = os.listdir('./examples')\n",
    "        print('examples')\n",
    "    except:\n",
    "        examplesPath = []\n",
    "    for example in examplesPath:\n",
    "        fileName = os.path.splitext(example)[0]\n",
    "        if not fileName.endswith(\"-Example\") :\n",
    "            error=True\n",
    "            print(\"\\t\",example,\" - The filename is does not have the suffix '-Example'\")\n",
    "        '''open file to find element values'''\n",
    "        if example.endswith(\"xml\"):\n",
    "            root = openXMLFile(\"examples\",example)\n",
    "            if not root.findall('.//{*}id')[0].get('value') == example.replace('.xml',''):\n",
    "                error=True\n",
    "                print(\"\\t\",example,\"The 'id' element is incorrect\")\n",
    "        elif example.endswith(\"json\"):\n",
    "            elements = openJSONFile(\"examples\",example)\n",
    "            if not elements['id'] == fileName:\n",
    "                print(elements['id'])\n",
    "                print( example.replace('.xml',''))\n",
    "                error=True\n",
    "                print(\"\\t\",example,\"The 'id' value '\"+elements['id']+\"' does not match filname '\"+fileName+\"'\")\n",
    "        else:\n",
    "            print(\"\\t\",example,\"The 'file extension' is incorrect\")"
   ]
  },
  {
   "cell_type": "code",
   "execution_count": 37,
   "id": "f6997db2-34f5-4f39-85e5-fc295b114f71",
   "metadata": {
    "tags": []
   },
   "outputs": [],
   "source": [
    "def CheckCapabilityStatementProfiles():\n",
    "    '''CapabilityStatement Checker - checks if all Profiles are in the CapabilityStatement'''\n",
    "    root = openXMLFile(\"CapabilityStatements\",\"CapabilityStatement-\"+mainVar['project']+\".xml\")\n",
    "    print('CapabilityStatement')\n",
    "    capabilityStatement = []\n",
    "    if root != None:\n",
    "        for tag in root.findall('.//{*}type'):\n",
    "            capabilityStatement.append(tag.attrib[\"value\"])\n",
    "\n",
    "        for p in currentProfiles:\n",
    "            if p not in capabilityStatement:\n",
    "                error=True\n",
    "                print(\"\\t\",p,\"is missing from the CapabilityStatement\")"
   ]
  },
  {
   "cell_type": "code",
   "execution_count": 42,
   "id": "c49f6be6-ab9e-4e99-b9c9-0e3a00d33dce",
   "metadata": {
    "tags": []
   },
   "outputs": [
    {
     "name": "stdout",
     "output_type": "stream",
     "text": [
      "structuredefinitions\n",
      "\t .ipynb_checkpoints is neither in xml or json format and has not been checked\n",
      "\t Extension-UKCore-RelatedClinicalContent.xml\n",
      "\t\tcontact.telecom.use - This SHALL be 'work'\n",
      "\t test.json\n",
      "\t\tcontact.telecom.rank - This SHALL be '1'\n",
      "\t\tThe file has either an incorrect prefix or in the wrong folder 'structuredefinitions'\n",
      "valuesets\n",
      "codesystems\n",
      "\t .ipynb_checkpoints is neither in xml or json format and has not been checked\n",
      "examples\n",
      "\t .ipynb_checkpoints  - The filename is does not have the suffix '-Example'\n",
      "\t .ipynb_checkpoints The 'file extension' is incorrect\n",
      "\t example.json  - The filename is does not have the suffix '-Example'\n",
      "UKCore-AllergyIntolerance-Amoxicillin-Example\n",
      "example.json\n",
      "\t example.json The 'id' value 'UKCore-AllergyIntolerance-Amoxicillin-Example' does not match filname 'example'\n",
      "\t Untitled.ipynb  - The filename is does not have the suffix '-Example'\n",
      "\t Untitled.ipynb The 'file extension' is incorrect\n",
      "CapabilityStatement\n"
     ]
    }
   ],
   "source": [
    "'''Creates an error state, if any of the checks fails it will cause the action to fail'''\n",
    "error=False\n",
    "\n",
    "currentProfiles = [] #Used for checking against CapabilityStatement\n",
    "\n",
    "paths = ['structuredefinitions','valuesets','codesystems']\n",
    "\n",
    "''' Find each file within paths and check for Quality Control. Prints outcome if issues found and sets error to True.'''\n",
    "for path in paths:\n",
    "    try:\n",
    "        files = os.listdir('./'+path)\n",
    "        print(path)\n",
    "    except:\n",
    "        continue\n",
    "    for file in files:\n",
    "        warnings = []\n",
    "        if file.endswith(\"xml\"):\n",
    "            root = openXMLFile(path,file)\n",
    "            warnings = checkContactDetailsXML(root,path,warnings)\n",
    "            elements,warnings = getXMLCoreElements(path,file,warnings)\n",
    "        elif file.endswith(\"json\"):\n",
    "            jsonFile = openJSONFile(path,file)\n",
    "            warnings = checkContactDetailsJSON(jsonFile,warnings)\n",
    "            elements,warnings = getJSONCoreElements(jsonFile,warnings)\n",
    "        else:\n",
    "            print('\\t',file,'is neither in xml or json format and has not been checked')\n",
    "            continue\n",
    "\n",
    "        warnings = checkAssets(file, warnings)\n",
    "        warnings = checkElementNamingConvention(elements, warnings, file)    \n",
    "        if warnings:\n",
    "            error=True\n",
    "            print(\"\\t\",file)\n",
    "            for x in warnings:\n",
    "                print(x)\n",
    "\n",
    "checkExamples()\n",
    "CheckCapabilityStatementProfiles()"
   ]
  },
  {
   "cell_type": "code",
   "execution_count": 22,
   "id": "1a8fe5f1-f079-4313-9505-c3094a9396bd",
   "metadata": {
    "tags": []
   },
   "outputs": [
    {
     "name": "stdout",
     "output_type": "stream",
     "text": [
      "\n",
      "Please fix the errors found above\n"
     ]
    },
    {
     "ename": "SystemExit",
     "evalue": "1",
     "output_type": "error",
     "traceback": [
      "An exception has occurred, use %tb to see the full traceback.\n",
      "\u001b[1;31mSystemExit\u001b[0m\u001b[1;31m:\u001b[0m 1\n"
     ]
    },
    {
     "name": "stderr",
     "output_type": "stream",
     "text": [
      "C:\\Users\\RYMA2\\AppData\\Local\\miniconda3\\Lib\\site-packages\\IPython\\core\\interactiveshell.py:3534: UserWarning: To exit: use 'exit', 'quit', or Ctrl-D.\n",
      "  warn(\"To exit: use 'exit', 'quit', or Ctrl-D.\", stacklevel=1)\n"
     ]
    }
   ],
   "source": [
    "''' If any QC issues found within the script, cause the action to fail''' \n",
    "if error == True:\n",
    "    print(\"\\nPlease fix the errors found above\")\n",
    "    sys.exit(1)\n",
    "else:\n",
    "    print(\"\\n\\nCheck Complete!\")"
   ]
  },
  {
   "cell_type": "code",
   "execution_count": 162,
   "id": "8bcb12d8-98c4-44d0-93e2-11190c45a687",
   "metadata": {
    "tags": []
   },
   "outputs": [],
   "source": [
    "\n"
   ]
  },
  {
   "cell_type": "code",
   "execution_count": 174,
   "id": "6de04e36-5d07-49f3-93b3-b5a3ece7ddd3",
   "metadata": {
    "tags": []
   },
   "outputs": [],
   "source": [
    "def openJSONFile(path, file):\n",
    "    try:\n",
    "        with open(f\"./{path}/{file}\", 'r') as j:\n",
    "            contents = json.loads(j.read())\n",
    "    except json.JSONDecodeError as e:\n",
    "        print(f\"\\t{file} - The JSON code has an error that needs to be fixed before it can be checked: {e}\")\n",
    "        error = True  # Assuming you handle errors similarly to the XML case\n",
    "        return None  # Return None to signify error\n",
    "    except Exception as error:\n",
    "        print(\"error found whilst trying to open\",file,\":\",error)\n",
    "    return contents"
   ]
  },
  {
   "cell_type": "code",
   "execution_count": 175,
   "id": "6277906f-4ae6-4d97-bfcf-f1d7981865fd",
   "metadata": {
    "tags": []
   },
   "outputs": [
    {
     "data": {
      "text/plain": [
       "{'resourceType': 'StructureDefinition',\n",
       " 'id': 'Extension-UKCore-ActualProblem',\n",
       " 'url': 'https://fhir.hl7.org.uk/StructureDefinition/Extension-UKCore-ActualProblem',\n",
       " 'version': '1.3.0',\n",
       " 'name': 'ExtensionUKCoreActualProblem',\n",
       " 'title': 'Extension UK Core Actual Problem',\n",
       " 'status': 'retired',\n",
       " 'date': '2023-04-28',\n",
       " 'publisher': 'HL7 UK',\n",
       " 'contact': [{'name': 'HL7 UK',\n",
       "   'telecom': [{'system': 'email',\n",
       "     'value': 'ukcore@hl7.org.uk',\n",
       "     'use': 'work',\n",
       "     'rank': 1}]}],\n",
       " 'description': 'A reference to a Condition, Observation, FamilyMemberHistory, or AllergyIntolerance that is the actual problem.',\n",
       " 'purpose': 'This extension extends the Condition Resource to support the exchange of information referencing a Condition, Observation, FamilyMemberHistory, or AllergyIntolerance that is the actual problem.',\n",
       " 'copyright': 'Copyright Â© 2021+ HL7 UK Licensed under the Apache License, Version 2.0 (the \"License\"); you may not use this file except in compliance with the License. You may obtain a copy of the License at  http://www.apache.org/licenses/LICENSE-2.0 Unless required by applicable law or agreed to in writing, software distributed under the License is distributed on an \"AS IS\" BASIS, WITHOUT WARRANTIES OR CONDITIONS OF ANY KIND, either express or implied. See the License for the specific language governing permissions and limitations under the License. HL7Â® FHIRÂ® standard Copyright Â© 2011+ HL7 The HL7Â® FHIRÂ® standard is used under the FHIR license. You may obtain a copy of the FHIR license at  https://www.hl7.org/fhir/license.html.',\n",
       " 'fhirVersion': '4.0.1',\n",
       " 'mapping': [{'identity': 'rim',\n",
       "   'uri': 'http://hl7.org/v3',\n",
       "   'name': 'RIM Mapping'}],\n",
       " 'kind': 'complex-type',\n",
       " 'abstract': False,\n",
       " 'context': [{'type': 'element', 'expression': 'Condition'}],\n",
       " 'type': 'Extension',\n",
       " 'baseDefinition': 'http://hl7.org/fhir/StructureDefinition/Extension',\n",
       " 'derivation': 'constraint',\n",
       " 'differential': {'element': [{'id': 'Extension',\n",
       "    'path': 'Extension',\n",
       "    'short': 'A reference to a resource that is the actual problem',\n",
       "    'definition': 'A reference to a Condition, Observation, FamilyMemberHistory, or AllergyIntolerance that is the actual problem.'},\n",
       "   {'id': 'Extension.url',\n",
       "    'path': 'Extension.url',\n",
       "    'fixedUri': 'https://fhir.hl7.org.uk/StructureDefinition/Extension-UKCore-ActualProblem'},\n",
       "   {'id': 'Extension.value[x]',\n",
       "    'path': 'Extension.value[x]',\n",
       "    'short': 'A reference to a resource that is the actual problem.',\n",
       "    'definition': 'A reference to a resource that is the actual problem.',\n",
       "    'min': 1,\n",
       "    'type': [{'code': 'Reference',\n",
       "      'targetProfile': ['http://hl7.org/fhir/StructureDefinition/AllergyIntolerance',\n",
       "       'http://hl7.org/fhir/StructureDefinition/Condition',\n",
       "       'http://hl7.org/fhir/StructureDefinition/Observation',\n",
       "       'http://hl7.org/fhir/StructureDefinition/FamilyMemberHistory']}]}]}}"
      ]
     },
     "execution_count": 175,
     "metadata": {},
     "output_type": "execute_result"
    }
   ],
   "source": [
    "openJSONFile(\"structuredefinitions\",\"test.json\")"
   ]
  },
  {
   "cell_type": "code",
   "execution_count": null,
   "id": "2c640fb9-40a6-48d1-b975-38240fb68bbb",
   "metadata": {},
   "outputs": [],
   "source": []
  }
 ],
 "metadata": {
  "kernelspec": {
   "display_name": "Python 3 (ipykernel)",
   "language": "python",
   "name": "python3"
  },
  "language_info": {
   "codemirror_mode": {
    "name": "ipython",
    "version": 3
   },
   "file_extension": ".py",
   "mimetype": "text/x-python",
   "name": "python",
   "nbconvert_exporter": "python",
   "pygments_lexer": "ipython3",
   "version": "3.11.5"
  }
 },
 "nbformat": 4,
 "nbformat_minor": 5
}
