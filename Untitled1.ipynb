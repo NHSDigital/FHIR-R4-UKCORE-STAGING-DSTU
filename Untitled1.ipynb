{
 "cells": [
  {
   "cell_type": "code",
   "execution_count": 5,
   "id": "c480a025-9b99-4fac-b53a-153c3ece6e2c",
   "metadata": {
    "tags": []
   },
   "outputs": [],
   "source": [
    "import xml.etree.ElementTree as ET\n",
    "import json\n",
    "import os\n",
    "import sys\n",
    "\n",
    "def openXMLFile(path,file):        \n",
    "    try:\n",
    "        tree = ET.parse(\"./\"+valuesets+\"/\"+file)\n",
    "    except ET.ParseError as e:\n",
    "        print(\"\\t\",file,\"- The XML code has an error that needs to be fixed before it can be checked:\",e)\n",
    "        error=True\n",
    "        return None\n",
    "    except:\n",
    "        return None\n",
    "    root = tree.getroot()\n",
    "    return root"
   ]
  },
  {
   "cell_type": "code",
   "execution_count": 6,
   "id": "3f257b5e-ed05-4cd2-bf0d-f5bffd381f25",
   "metadata": {
    "tags": []
   },
   "outputs": [],
   "source": [
    "def getXMLCoreElements(path,file,warnings):\n",
    "    '''Gets all elements from the xml file that needs to be checked. Will return empty key value pairs on any retired assets'''\n",
    "    try:\n",
    "        if root.findall('.//{*}'+str('status'))[0].get('value') == 'retired':\n",
    "            elements = {}\n",
    "            return elements,warnings\n",
    "    except IndexError:\n",
    "        warnings.append(\"\\t\",file,\" - The element 'status' is missing\")\n",
    "#    except:\n",
    "#        print(\"active\",root.findall('.//{*}'+str('status'))[0].get('value'))   \n",
    "\n",
    "    '''check for missing elements'''\n",
    "    stop = 0\n",
    "    elements = {}\n",
    "    #elements = {'id':'id','url':'url','name':'name','title':'title','version':'version','status':'status','date':'date','description':'description','copyright':'copyright'}\n",
    "    fileKeys = ['id','url','name','title','version','status','date','description','copyright']\n",
    "    for k in fileKeys:\n",
    "        try:\n",
    "            elements.update({k:root.findall('.//{*}'+str(k))[0].get('value')}) \n",
    "        except:\n",
    "            elements.update({k:None})\n",
    "            #warnings.append(\"\\t\",file,\" - The element '\"+k+\"' is missing\")\n",
    "    return elements,warnings"
   ]
  },
  {
   "cell_type": "code",
   "execution_count": 7,
   "id": "72d4b896-d03c-489e-9897-2a8c4aa3fee3",
   "metadata": {
    "tags": []
   },
   "outputs": [
    {
     "data": {
      "text/plain": [
       "<Element '{http://hl7.org/fhir}ValueSet' at 0x000002735559A2A0>"
      ]
     },
     "execution_count": 7,
     "metadata": {},
     "output_type": "execute_result"
    }
   ],
   "source": [
    "openXMLFile('valuesets','ValueSet-UKCore-AddressKeyType.xml')"
   ]
  },
  {
   "cell_type": "code",
   "execution_count": 10,
   "id": "7ce5f0c6-f32a-4b42-8daa-daf6db7dd286",
   "metadata": {
    "tags": []
   },
   "outputs": [],
   "source": [
    "warnings = []\n",
    "path = 'valuesets'\n",
    "file = 'ValueSet-UKCore-AddressKeyType.xml'"
   ]
  },
  {
   "cell_type": "code",
   "execution_count": 11,
   "id": "a81c1da8-00a9-4ed6-b0e2-10dfc9fd8f0d",
   "metadata": {
    "tags": []
   },
   "outputs": [
    {
     "ename": "NameError",
     "evalue": "name 'root' is not defined",
     "output_type": "error",
     "traceback": [
      "\u001b[1;31m---------------------------------------------------------------------------\u001b[0m",
      "\u001b[1;31mNameError\u001b[0m                                 Traceback (most recent call last)",
      "Cell \u001b[1;32mIn[11], line 1\u001b[0m\n\u001b[1;32m----> 1\u001b[0m getXMLCoreElements(path,file,warnings)\n",
      "Cell \u001b[1;32mIn[6], line 4\u001b[0m, in \u001b[0;36mgetXMLCoreElements\u001b[1;34m(path, file, warnings)\u001b[0m\n\u001b[0;32m      2\u001b[0m \u001b[38;5;250m\u001b[39m\u001b[38;5;124;03m'''Gets all elements from the xml file that needs to be checked. Will return empty key value pairs on any retired assets'''\u001b[39;00m\n\u001b[0;32m      3\u001b[0m \u001b[38;5;28;01mtry\u001b[39;00m:\n\u001b[1;32m----> 4\u001b[0m     \u001b[38;5;28;01mif\u001b[39;00m root\u001b[38;5;241m.\u001b[39mfindall(\u001b[38;5;124m'\u001b[39m\u001b[38;5;124m.//\u001b[39m\u001b[38;5;124m{\u001b[39m\u001b[38;5;124m*}\u001b[39m\u001b[38;5;124m'\u001b[39m\u001b[38;5;241m+\u001b[39m\u001b[38;5;28mstr\u001b[39m(\u001b[38;5;124m'\u001b[39m\u001b[38;5;124mstatus\u001b[39m\u001b[38;5;124m'\u001b[39m))[\u001b[38;5;241m0\u001b[39m]\u001b[38;5;241m.\u001b[39mget(\u001b[38;5;124m'\u001b[39m\u001b[38;5;124mvalue\u001b[39m\u001b[38;5;124m'\u001b[39m) \u001b[38;5;241m==\u001b[39m \u001b[38;5;124m'\u001b[39m\u001b[38;5;124mretired\u001b[39m\u001b[38;5;124m'\u001b[39m:\n\u001b[0;32m      5\u001b[0m         elements \u001b[38;5;241m=\u001b[39m {}\n\u001b[0;32m      6\u001b[0m         \u001b[38;5;28;01mreturn\u001b[39;00m elements,warnings\n",
      "\u001b[1;31mNameError\u001b[0m: name 'root' is not defined"
     ]
    }
   ],
   "source": [
    "getXMLCoreElements(path,file,warnings)"
   ]
  },
  {
   "cell_type": "code",
   "execution_count": 14,
   "id": "d886920e-20c5-4a86-9074-e3a4c8c90072",
   "metadata": {
    "tags": []
   },
   "outputs": [],
   "source": [
    "elements = {'id': 'Extension-UKCore-AdditionalContact', 'url': 'https://fhir.hl7.org.ukwrong/StructureDefinition/Extension-UKCore-AdditionalContact', 'name': 'ExtensionUKCoreAdditionalContact', 'title': 'Extension UK Core Additional Contact', 'version': '1.1.0', 'date': '2023-12-12', 'description': 'An extension to support recording of additional contacts, who should be contacted regarding questions arising from the service request. This differs from the requester and responsibleClinician.', 'copyright': 'Copyright © 2021+ HL7 UK Licensed under the Apache License, Version 2.0 (the \"License\"); you may not use this file except in compliance with the License. You may obtain a copy of the License at  http://www.apache.org/licenses/LICENSE-2.0 Unless required by applicable law or agreed to in writing, software distributed under the License is distributed on an \"AS IS\" BASIS, WITHOUT WARRANTIES OR CONDITIONS OF ANY KIND, either express or implied. See the License for the specific language governing permissions and limitations under the License. HL7® FHIR® standard Copyright © 2011+ HL7 The HL7® FHIR® standard is used under the FHIR license. You may obtain a copy of the FHIR license at  https://www.hl7.org/fhir/license.html.-wrong'}\n",
    "\n",
    "try:\n",
    "    elements['url prefix'] = '/'.join(elements['url'].split('/')[:-1])\n",
    "    if elements['url prefix'] not in mainVar['ignoreURLPrefix']:\n",
    "        elementsCheck['urlPrefix'] = mainVar['urlPrefix']+assets[path]\n",
    "    elements['url suffix'] = elements['url'].split('/')[-1]\n",
    "    elementsCheck['url suffix'] = fileName \n",
    "except:\n",
    "    print(\"url - could not check prefix and suffix\")\n",
    "    pass"
   ]
  },
  {
   "cell_type": "code",
   "execution_count": 15,
   "id": "8af49793-9c10-4bc3-8b5e-165500bcb5a5",
   "metadata": {
    "tags": []
   },
   "outputs": [
    {
     "data": {
      "text/plain": [
       "{'id': 'Extension-UKCore-AdditionalContact',\n",
       " 'url': 'https://fhir.hl7.org.ukwrong/StructureDefinition/Extension-UKCore-AdditionalContact',\n",
       " 'name': 'ExtensionUKCoreAdditionalContact',\n",
       " 'title': 'Extension UK Core Additional Contact',\n",
       " 'version': '1.1.0',\n",
       " 'date': '2023-12-12',\n",
       " 'description': 'An extension to support recording of additional contacts, who should be contacted regarding questions arising from the service request. This differs from the requester and responsibleClinician.',\n",
       " 'copyright': 'Copyright © 2021+ HL7 UK Licensed under the Apache License, Version 2.0 (the \"License\"); you may not use this file except in compliance with the License. You may obtain a copy of the License at  http://www.apache.org/licenses/LICENSE-2.0 Unless required by applicable law or agreed to in writing, software distributed under the License is distributed on an \"AS IS\" BASIS, WITHOUT WARRANTIES OR CONDITIONS OF ANY KIND, either express or implied. See the License for the specific language governing permissions and limitations under the License. HL7® FHIR® standard Copyright © 2011+ HL7 The HL7® FHIR® standard is used under the FHIR license. You may obtain a copy of the FHIR license at  https://www.hl7.org/fhir/license.html.-wrong',\n",
       " 'url prefix': 'https://fhir.hl7.org.ukwrong/StructureDefinition',\n",
       " 'url suffix': 'Extension-UKCore-AdditionalContact'}"
      ]
     },
     "execution_count": 15,
     "metadata": {},
     "output_type": "execute_result"
    }
   ],
   "source": [
    "elements"
   ]
  },
  {
   "cell_type": "code",
   "execution_count": 16,
   "id": "25d173a8-81ab-41f8-9a07-c0b02b5995f4",
   "metadata": {
    "tags": []
   },
   "outputs": [],
   "source": [
    "elements['url suffix'] = elements['url'].split('/')[-1]"
   ]
  },
  {
   "cell_type": "code",
   "execution_count": 17,
   "id": "bcd220e3-73bb-4901-8b4b-fe9ae6cf7351",
   "metadata": {
    "tags": []
   },
   "outputs": [
    {
     "data": {
      "text/plain": [
       "'Extension-UKCore-AdditionalContact'"
      ]
     },
     "execution_count": 17,
     "metadata": {},
     "output_type": "execute_result"
    }
   ],
   "source": [
    "elements['url suffix']"
   ]
  },
  {
   "cell_type": "code",
   "execution_count": 21,
   "id": "22c3a4c7-200f-40fc-8af8-4f123149a730",
   "metadata": {
    "tags": []
   },
   "outputs": [
    {
     "data": {
      "text/plain": [
       "'UKCore-AllergyIntolerance'"
      ]
     },
     "execution_count": 21,
     "metadata": {},
     "output_type": "execute_result"
    }
   ],
   "source": [
    "'https://fhir.hl7.org.uk/StructureDefinition/UKCore-AllergyIntolerance'.split('/')[-1]"
   ]
  },
  {
   "cell_type": "code",
   "execution_count": 22,
   "id": "ddc1b441-b758-4cf3-bc28-f495d1c3daff",
   "metadata": {
    "tags": []
   },
   "outputs": [
    {
     "data": {
      "text/plain": [
       "'Extension-UKCore-AdditionalContact'"
      ]
     },
     "execution_count": 22,
     "metadata": {},
     "output_type": "execute_result"
    }
   ],
   "source": [
    "elements['url suffix']"
   ]
  },
  {
   "cell_type": "code",
   "execution_count": null,
   "id": "64dfd145-7b41-4d02-b96f-d15a37383ff9",
   "metadata": {},
   "outputs": [],
   "source": []
  }
 ],
 "metadata": {
  "kernelspec": {
   "display_name": "Python 3 (ipykernel)",
   "language": "python",
   "name": "python3"
  },
  "language_info": {
   "codemirror_mode": {
    "name": "ipython",
    "version": 3
   },
   "file_extension": ".py",
   "mimetype": "text/x-python",
   "name": "python",
   "nbconvert_exporter": "python",
   "pygments_lexer": "ipython3",
   "version": "3.11.5"
  }
 },
 "nbformat": 4,
 "nbformat_minor": 5
}
