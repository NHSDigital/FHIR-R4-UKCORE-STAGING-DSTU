{
 "cells": [
  {
   "cell_type": "code",
   "execution_count": 1,
   "id": "93fd0d47-24c4-4051-bffe-e01dc30ae62a",
   "metadata": {
    "tags": []
   },
   "outputs": [],
   "source": [
    "warnings = []"
   ]
  },
  {
   "cell_type": "code",
   "execution_count": 2,
   "id": "f1b3ab8c-b678-4981-8eee-8a0e2d1741a2",
   "metadata": {
    "tags": []
   },
   "outputs": [],
   "source": [
    "def addWarning(warnings):\n",
    "    warnings.append(\"1\")\n",
    "    return warnings"
   ]
  },
  {
   "cell_type": "code",
   "execution_count": 3,
   "id": "3d199db7-06fb-4729-b68c-7775bda0f000",
   "metadata": {
    "tags": []
   },
   "outputs": [],
   "source": [
    "warnings = addWarning(warnings)"
   ]
  },
  {
   "cell_type": "code",
   "execution_count": 4,
   "id": "89965e31-2cb2-4e4f-8f4f-8e1f377f35af",
   "metadata": {
    "tags": []
   },
   "outputs": [
    {
     "data": {
      "text/plain": [
       "['1']"
      ]
     },
     "execution_count": 4,
     "metadata": {},
     "output_type": "execute_result"
    }
   ],
   "source": [
    "warnings"
   ]
  },
  {
   "cell_type": "code",
   "execution_count": 5,
   "id": "da79aa43-bb61-4fc1-8985-2eb51e7777f5",
   "metadata": {
    "tags": []
   },
   "outputs": [],
   "source": [
    "warnings = addWarning(warnings)"
   ]
  },
  {
   "cell_type": "code",
   "execution_count": 6,
   "id": "70a0224f-5097-4def-b768-1971ee38ad5c",
   "metadata": {
    "tags": []
   },
   "outputs": [
    {
     "data": {
      "text/plain": [
       "['1', '1']"
      ]
     },
     "execution_count": 6,
     "metadata": {},
     "output_type": "execute_result"
    }
   ],
   "source": [
    "warnings"
   ]
  },
  {
   "cell_type": "code",
   "execution_count": null,
   "id": "58ef1a76-4cf7-40a9-bc54-4ef84b171415",
   "metadata": {},
   "outputs": [],
   "source": []
  }
 ],
 "metadata": {
  "kernelspec": {
   "display_name": "Python 3 (ipykernel)",
   "language": "python",
   "name": "python3"
  },
  "language_info": {
   "codemirror_mode": {
    "name": "ipython",
    "version": 3
   },
   "file_extension": ".py",
   "mimetype": "text/x-python",
   "name": "python",
   "nbconvert_exporter": "python",
   "pygments_lexer": "ipython3",
   "version": "3.11.5"
  }
 },
 "nbformat": 4,
 "nbformat_minor": 5
}
